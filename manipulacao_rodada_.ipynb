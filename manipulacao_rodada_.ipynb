{
  "nbformat": 4,
  "nbformat_minor": 0,
  "metadata": {
    "colab": {
      "provenance": [],
      "authorship_tag": "ABX9TyP4mlXBNlV016G3KWcAVexz",
      "include_colab_link": true
    },
    "kernelspec": {
      "name": "python3",
      "display_name": "Python 3"
    },
    "language_info": {
      "name": "python"
    }
  },
  "cells": [
    {
      "cell_type": "markdown",
      "metadata": {
        "id": "view-in-github",
        "colab_type": "text"
      },
      "source": [
        "<a href=\"https://colab.research.google.com/github/Durso16/head_bet_/blob/main/manipulacao_rodada_.ipynb\" target=\"_parent\"><img src=\"https://colab.research.google.com/assets/colab-badge.svg\" alt=\"Open In Colab\"/></a>"
      ]
    },
    {
      "cell_type": "code",
      "execution_count": null,
      "metadata": {
        "id": "nEGr-FJfQsJQ"
      },
      "outputs": [],
      "source": [
        "import csv\n",
        "from google.colab import files\n",
        "\n",
        "# Dados fornecidos\n",
        "data = [\n",
        "    [\"24/08\", \"Atlético Goianiense\", \"Atlético Goianiense\", \"16:00\", \"Juventude\", \"Juventude\", 2.10, 3.20, 3.50],\n",
        "    [\"24/08\", \"Palmeiras\", \"Palmeiras\", \"18:30\", \"Cuiabá\", \"Cuiabá\", 1.53, 4.10, 6.50],\n",
        "    [\"24/08\", \"Atlético Mineiro\", \"Atlético Mineiro\", \"21:00\", \"Fluminense\", \"Fluminense\", 1.80, 3.30, 5.00],\n",
        "    [\"25/08\", \"Criciúma\", \"Criciúma\", \"16:00\", \"Grêmio\", \"Grêmio\", 2.45, 3.20, 2.90],\n",
        "    [\"25/08\", \"Fortaleza\", \"Fortaleza\", \"16:00\", \"Corinthians\", \"Corinthians\", 1.80, 3.40, 4.50],\n",
        "    [\"25/08\", \"Bahia\", \"Bahia\", \"16:00\", \"Botafogo\", \"Botafogo\", 2.20, 3.30, 3.20],\n",
        "    [\"25/08\", \"São Paulo\", \"São Paulo\", \"18:30\", \"Vitória\", \"Vitória\", 1.57, 3.90, 6.00],\n",
        "    [\"25/08\", \"Internacional\", \"Internacional\", \"19:00\", \"Cruzeiro\", \"Cruzeiro\", 2.05, 3.40, 3.40],\n",
        "    [\"25/08\", \"Flamengo\", \"Flamengo\", \"20:00\", \"Red Bull Bragantino\", \"Red Bull Bragantino\", 1.57, 3.80, 6.00],\n",
        "    [\"26/08\", \"Vasco\", \"Vasco\", \"21:00\", \"Athletico Paranaense\", \"Athletico Paranaense\", 2.20, 3.25, 3.30]\n",
        "]\n",
        "\n",
        "# Nome do arquivo CSV de saída\n",
        "output_file = \"/content/odds_rodada24.csv\"\n",
        "\n",
        "# Criação e escrita do arquivo CSV\n",
        "with open(output_file, mode='w', newline='') as file:\n",
        "    writer = csv.writer(file)\n",
        "    # Escreve o cabeçalho\n",
        "    writer.writerow([\"TimeA\", \"Odds_TimeA\", \"Empate\", \"Odds_Empate\", \"TimeB\", \"Odds_TimeB\"])\n",
        "\n",
        "    # Escreve os dados\n",
        "    for row in data:\n",
        "        writer.writerow([row[1], row[6], \"Empate\", row[7], row[4], row[8]])\n",
        "\n",
        "print(f\"Arquivo {output_file} gerado com sucesso!\")\n",
        "\n",
        "# Baixar o arquivo CSV\n",
        "files.download(output_file)\n"
      ]
    }
  ]
}