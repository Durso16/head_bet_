{
  "nbformat": 4,
  "nbformat_minor": 0,
  "metadata": {
    "colab": {
      "provenance": [],
      "authorship_tag": "ABX9TyMKjj6uR7RC1vujT6l+/pRl",
      "include_colab_link": true
    },
    "kernelspec": {
      "name": "python3",
      "display_name": "Python 3"
    },
    "language_info": {
      "name": "python"
    }
  },
  "cells": [
    {
      "cell_type": "markdown",
      "metadata": {
        "id": "view-in-github",
        "colab_type": "text"
      },
      "source": [
        "<a href=\"https://colab.research.google.com/github/Durso16/head_bet_/blob/main/condi%C3%A7%C3%B5es%20para%20lucro%20positivo.ipynb\" target=\"_parent\"><img src=\"https://colab.research.google.com/assets/colab-badge.svg\" alt=\"Open In Colab\"/></a>"
      ]
    },
    {
      "cell_type": "code",
      "source": [],
      "metadata": {
        "id": "ufxjYY8BMc9w"
      },
      "execution_count": null,
      "outputs": []
    },
    {
      "cell_type": "code",
      "source": [
        "!pip install pandas matplotlib numpy"
      ],
      "metadata": {
        "colab": {
          "base_uri": "https://localhost:8080/"
        },
        "id": "Jj15tGLHMaSU",
        "outputId": "fb7489ab-e331-4ed9-f17c-6c25c127b3a3"
      },
      "execution_count": 1,
      "outputs": [
        {
          "output_type": "stream",
          "name": "stdout",
          "text": [
            "Requirement already satisfied: pandas in /usr/local/lib/python3.10/dist-packages (2.1.4)\n",
            "Requirement already satisfied: matplotlib in /usr/local/lib/python3.10/dist-packages (3.7.1)\n",
            "Requirement already satisfied: numpy in /usr/local/lib/python3.10/dist-packages (1.26.4)\n",
            "Requirement already satisfied: python-dateutil>=2.8.2 in /usr/local/lib/python3.10/dist-packages (from pandas) (2.8.2)\n",
            "Requirement already satisfied: pytz>=2020.1 in /usr/local/lib/python3.10/dist-packages (from pandas) (2024.1)\n",
            "Requirement already satisfied: tzdata>=2022.1 in /usr/local/lib/python3.10/dist-packages (from pandas) (2024.1)\n",
            "Requirement already satisfied: contourpy>=1.0.1 in /usr/local/lib/python3.10/dist-packages (from matplotlib) (1.2.1)\n",
            "Requirement already satisfied: cycler>=0.10 in /usr/local/lib/python3.10/dist-packages (from matplotlib) (0.12.1)\n",
            "Requirement already satisfied: fonttools>=4.22.0 in /usr/local/lib/python3.10/dist-packages (from matplotlib) (4.53.1)\n",
            "Requirement already satisfied: kiwisolver>=1.0.1 in /usr/local/lib/python3.10/dist-packages (from matplotlib) (1.4.5)\n",
            "Requirement already satisfied: packaging>=20.0 in /usr/local/lib/python3.10/dist-packages (from matplotlib) (24.1)\n",
            "Requirement already satisfied: pillow>=6.2.0 in /usr/local/lib/python3.10/dist-packages (from matplotlib) (9.4.0)\n",
            "Requirement already satisfied: pyparsing>=2.3.1 in /usr/local/lib/python3.10/dist-packages (from matplotlib) (3.1.2)\n",
            "Requirement already satisfied: six>=1.5 in /usr/local/lib/python3.10/dist-packages (from python-dateutil>=2.8.2->pandas) (1.16.0)\n"
          ]
        }
      ]
    },
    {
      "cell_type": "code",
      "execution_count": 2,
      "metadata": {
        "colab": {
          "base_uri": "https://localhost:8080/"
        },
        "id": "Fxa8CaY7MLoC",
        "outputId": "bb2a944d-8253-4532-be7e-cd3f3b280848"
      },
      "outputs": [
        {
          "output_type": "stream",
          "name": "stdout",
          "text": [
            "Jogo: Atlético Goianiense vs Juventude\n",
            "Odds: Time A=2.1, Empate=3.2, Time B=3.5\n",
            "Lucros: Time A=-49.89, Empate=16.36, Time B=39.20\n",
            "--------------------------------------------------\n",
            "Jogo: Palmeiras vs Cuiabá\n",
            "Odds: Time A=1.53, Empate=4.1, Time B=6.5\n",
            "Lucros: Time A=-80.70, Empate=38.58, Time B=248.31\n",
            "--------------------------------------------------\n",
            "Jogo: Atlético Mineiro vs Fluminense\n",
            "Odds: Time A=1.8, Empate=3.3, Time B=5.0\n",
            "Lucros: Time A=-67.92, Empate=7.82, Time B=147.52\n",
            "--------------------------------------------------\n",
            "Jogo: Criciúma vs Grêmio\n",
            "Odds: Time A=2.45, Empate=3.2, Time B=2.9\n",
            "Lucros: Time A=-29.80, Empate=19.77, Time B=-1.64\n",
            "--------------------------------------------------\n",
            "Jogo: Fortaleza vs Corinthians\n",
            "Odds: Time A=1.8, Empate=3.4, Time B=4.5\n",
            "Lucros: Time A=-66.60, Empate=19.18, Time B=108.76\n",
            "--------------------------------------------------\n",
            "Jogo: Bahia vs Botafogo\n",
            "Odds: Time A=2.2, Empate=3.3, Time B=3.2\n",
            "Lucros: Time A=-44.37, Empate=25.17, Time B=17.70\n",
            "--------------------------------------------------\n",
            "Jogo: São Paulo vs Vitória\n",
            "Odds: Time A=1.57, Empate=3.9, Time B=6.0\n",
            "Lucros: Time A=-78.51, Empate=32.61, Time B=213.86\n",
            "--------------------------------------------------\n",
            "Jogo: Internacional vs Cruzeiro\n",
            "Odds: Time A=2.05, Empate=3.4, Time B=3.4\n",
            "Lucros: Time A=-52.51, Empate=30.62, Time B=30.62\n",
            "--------------------------------------------------\n",
            "Jogo: Flamengo vs Red Bull Bragantino\n",
            "Odds: Time A=1.57, Empate=3.8, Time B=6.0\n",
            "Lucros: Time A=-78.32, Empate=27.00, Time B=216.62\n",
            "--------------------------------------------------\n",
            "Jogo: Vasco vs Athletico Paranaense\n",
            "Odds: Time A=2.2, Empate=3.25, Time B=3.3\n",
            "Lucros: Time A=-44.69, Empate=20.71, Time B=24.46\n",
            "--------------------------------------------------\n",
            "Nenhum jogo satisfaz as condições para lucro positivo em todos os cenários.\n",
            "Nenhum jogo satisfaz as condições de prejuízo admissível no empate.\n"
          ]
        }
      ],
      "source": [
        "import numpy as np\n",
        "import pandas as pd\n",
        "import matplotlib.pyplot as plt\n",
        "\n",
        "# Passo 2: Carregar o arquivo de odds\n",
        "file_path = 'odds_rodada24.csv'  # Substitua pelo caminho correto do arquivo de odds\n",
        "odds_df = pd.read_csv(file_path)\n",
        "\n",
        "# Função para calcular as apostas ideais e verificar lucro\n",
        "def calcular_apostas_e_lucro(odds_a, odds_e, odds_b, max_investimento=100):\n",
        "    # Calcular as apostas ideais para cada cenário\n",
        "    investimento_a = max_investimento / (1 + (odds_b / odds_a) + (odds_e / odds_a))\n",
        "    investimento_b = (odds_b / odds_a) * investimento_a\n",
        "    investimento_e = (odds_e / odds_a) * investimento_a\n",
        "\n",
        "    # Verificar os retornos e lucros\n",
        "    retorno_a = investimento_a * odds_a\n",
        "    retorno_b = investimento_b * odds_b\n",
        "    retorno_e = investimento_e * odds_e\n",
        "\n",
        "    lucro_a = retorno_a - max_investimento\n",
        "    lucro_b = retorno_b - max_investimento\n",
        "    lucro_e = retorno_e - max_investimento\n",
        "\n",
        "    return investimento_a, investimento_e, investimento_b, lucro_a, lucro_e, lucro_b\n",
        "\n",
        "# Função para verificar as condições\n",
        "def verificar_condicoes(odds_df, max_prejuizo_empate=20):\n",
        "    jogos_satisfatorios = []\n",
        "    jogos_com_prejuizo_admissivel = []\n",
        "\n",
        "    for i, row in odds_df.iterrows():\n",
        "        time_a = row['TimeA']\n",
        "        odds_a = row['Odds_TimeA']\n",
        "        odds_e = row['Odds_Empate']\n",
        "        time_b = row['TimeB']\n",
        "        odds_b = row['Odds_TimeB']\n",
        "\n",
        "        # Calcular apostas e lucros\n",
        "        investimento_a, investimento_e, investimento_b, lucro_a, lucro_e, lucro_b = calcular_apostas_e_lucro(odds_a, odds_e, odds_b)\n",
        "\n",
        "        # Debug: Exibir odds e lucros para ver o que está acontecendo\n",
        "        print(f\"Jogo: {time_a} vs {time_b}\")\n",
        "        print(f\"Odds: Time A={odds_a}, Empate={odds_e}, Time B={odds_b}\")\n",
        "        print(f\"Lucros: Time A={lucro_a:.2f}, Empate={lucro_e:.2f}, Time B={lucro_b:.2f}\")\n",
        "        print(\"-\" * 50)\n",
        "\n",
        "        # Verificar se o lucro é positivo em todos os cenários\n",
        "        if lucro_a > 0 and lucro_e > 0 and lucro_b > 0:\n",
        "            jogos_satisfatorios.append({\n",
        "                \"Jogo\": f\"{time_a} vs {time_b}\",\n",
        "                \"Aposta no Time A\": investimento_a,\n",
        "                \"Aposta no Empate\": investimento_e,\n",
        "                \"Aposta no Time B\": investimento_b,\n",
        "                \"Lucro Time A\": lucro_a,\n",
        "                \"Lucro Empate\": lucro_e,\n",
        "                \"Lucro Time B\": lucro_b\n",
        "            })\n",
        "        # Verificar se o prejuízo no empate é admissível\n",
        "        elif lucro_a > 0 and lucro_b > 0 and -lucro_e <= max_prejuizo_empate:\n",
        "            jogos_com_prejuizo_admissivel.append({\n",
        "                \"Jogo\": f\"{time_a} vs {time_b}\",\n",
        "                \"Aposta no Time A\": investimento_a,\n",
        "                \"Aposta no Empate\": investimento_e,\n",
        "                \"Aposta no Time B\": investimento_b,\n",
        "                \"Lucro Time A\": lucro_a,\n",
        "                \"Prejuízo Empate\": lucro_e,\n",
        "                \"Lucro Time B\": lucro_b\n",
        "            })\n",
        "\n",
        "    return jogos_satisfatorios, jogos_com_prejuizo_admissivel\n",
        "\n",
        "# Verificar as condições nos jogos\n",
        "jogos_satisfatorios, jogos_com_prejuizo_admissivel = verificar_condicoes(odds_df)\n",
        "\n",
        "# Gerar os arquivos CSV com os resultados\n",
        "if jogos_satisfatorios:\n",
        "    df_satisfatorios = pd.DataFrame(jogos_satisfatorios)\n",
        "    output_file_satisfatorios = \"jogos_satisfatorios.csv\"\n",
        "    df_satisfatorios.to_csv(output_file_satisfatorios, index=False)\n",
        "    print(f\"Arquivo {output_file_satisfatorios} gerado com sucesso!\")\n",
        "else:\n",
        "    print(\"Nenhum jogo satisfaz as condições para lucro positivo em todos os cenários.\")\n",
        "\n",
        "    if jogos_com_prejuizo_admissivel:\n",
        "        df_prejuizo_admissivel = pd.DataFrame(jogos_com_prejuizo_admissivel)\n",
        "        output_file_prejuizo = \"jogos_com_prejuizo_admissivel.csv\"\n",
        "        df_prejuizo_admissivel.to_csv(output_file_prejuizo, index=False)\n",
        "        print(f\"Arquivo {output_file_prejuizo} gerado com sucesso para jogos com prejuízo admissível no empate!\")\n",
        "    else:\n",
        "        print(\"Nenhum jogo satisfaz as condições de prejuízo admissível no empate.\")\n"
      ]
    }
  ]
}